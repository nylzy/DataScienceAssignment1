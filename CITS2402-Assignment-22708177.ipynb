{
 "cells": [
  {
   "cell_type": "markdown",
   "metadata": {
    "collapsed": false,
    "jupyter": {
     "outputs_hidden": false
    }
   },
   "source": [
    "## CITS2402 - Introduction to Data Science - Assignment 1.\n",
    "\n",
    "### Comparing Demographic Trends in Australian Census Data (2021 and 2016)\n",
    "\n",
    "**Date:** August 2025."
   ]
  },
  {
   "cell_type": "markdown",
   "metadata": {
    "collapsed": false,
    "deletable": false,
    "jupyter": {
     "outputs_hidden": false
    }
   },
   "source": [
    "## Declaration\n",
    "\n",
    "This declaration should be completed and remain attached to the top of your submission.\n",
    "\n",
    "*I/we am/are aware of the University’s [policy on academic conduct](https://www.uwa.edu.au/policy/-/media/project/uwa/uwa/policy-library/policy/student-administration/academic-integrity/academic-integrity-policy.doc) and I declare that this assignment is entirely the work of the author(s) listed below and that suitable acknowledgement has been made for any sources of information used in preparing it. I have retained a copy for my own records.*\n",
    "\n",
    "- Name 1:\n",
    "- Student ID 1:\n",
    "- Name 2:\n",
    "- Student ID 2:\n",
    "- Name 3:\n",
    "- Student ID 3:\n",
    "- Date:\n"
   ]
  },
  {
   "cell_type": "markdown",
   "metadata": {
    "collapsed": false,
    "jupyter": {
     "outputs_hidden": false
    },
    "nbgrader": {
     "grade": false,
     "grade_id": "assignment",
     "locked": true,
     "points": 25,
     "schema_version": 3,
     "solution": false,
     "task": true
    }
   },
   "source": [
    "The suffix `-template` should be replaced with the corresponding student numbers. For instance, if you are doing your assignment with another person, you should rename your file as `CITS2402-Assignment-STDNO1-STDNO2.ipynb`, where 'STDNO1' and 'STDNO2' are the corresponding student numbers involved in the submission. \n",
    "\n",
    "<hr>\n"
   ]
  },
  {
   "cell_type": "code",
   "execution_count": 3,
   "metadata": {
    "collapsed": false,
    "jupyter": {
     "outputs_hidden": false
    }
   },
   "outputs": [],
   "source": [
    "# Your work starts here..."
   ]
  }
 ],
 "metadata": {
  "kernelspec": {
   "display_name": "Python 3 (ipykernel)",
   "language": "python",
   "name": "python3"
  },
  "language_info": {
   "codemirror_mode": {
    "name": "ipython",
    "version": 3
   },
   "file_extension": ".py",
   "mimetype": "text/x-python",
   "name": "python",
   "nbconvert_exporter": "python",
   "pygments_lexer": "ipython3",
   "version": "3.13.5"
  },
  "nbgrader": {
   "__altered": false,
   "_root": {
    "entries": [
     [
      "__altered",
      false
     ],
     [
      "__hash",
      -335098374
     ],
     [
      "_root",
      {
       "entries": [
        [
         "cocalc_minimal_stubs",
         false
        ]
       ],
       "ownerID": {}
      }
     ],
     [
      "cocalc_minimal_stubs",
      false
     ],
     [
      "size",
      1
     ]
    ],
    "ownerID": {}
   },
   "cocalc_minimal_stubs": false,
   "size": 5
  }
 },
 "nbformat": 4,
 "nbformat_minor": 4
}
