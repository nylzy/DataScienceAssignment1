{
 "cells": [
  {
   "cell_type": "markdown",
   "metadata": {
    "collapsed": false,
    "jupyter": {
     "outputs_hidden": false
    }
   },
   "source": [
    "## CITS2402 - Introduction to Data Science - Assignment 1.\n",
    "\n",
    "### Comparing Demographic Trends in Australian Census Data (2021 and 2016)\n",
    "\n",
    "**Date:** August 2025."
   ]
  },
  {
   "cell_type": "markdown",
   "metadata": {
    "collapsed": false,
    "deletable": false,
    "jupyter": {
     "outputs_hidden": false
    }
   },
   "source": [
    "## Declaration\n",
    "\n",
    "This declaration should be completed and remain attached to the top of your submission.\n",
    "\n",
    "*I/we am/are aware of the University’s [policy on academic conduct](https://www.uwa.edu.au/policy/-/media/project/uwa/uwa/policy-library/policy/student-administration/academic-integrity/academic-integrity-policy.doc) and I declare that this assignment is entirely the work of the author(s) listed below and that suitable acknowledgement has been made for any sources of information used in preparing it. I have retained a copy for my own records.*\n",
    "\n",
    "- Name 1: Thomas Graham Nylund\n",
    "- Student ID 1: 22708177\n",
    "- Date: 19/09/2025\n",
    "\n",
    "<hr>"
   ]
  },
  {
   "cell_type": "markdown",
   "metadata": {
    "collapsed": false,
    "jupyter": {
     "outputs_hidden": false
    }
   },
   "source": [
    "An agency of the federal government, the National Indigenous Australians Agency outlines the concept of 'Closing the Gap' as \"priority reforms and ambitious targets that are changing the way governments work to improve life outcomes for Indigenous Australians.\"[1] These targets cover topics such as health and wellbeing, education and employment, justice, housing, and others. This assignment will use data analysis methods to seek to answer the question: \"From 2016 to 2021, has meaningful progress been made to 'Close The Gap' between in Indigenous and non-Indigenous Australians, in terms of health, education and justice outcomes\".\n",
    "\n"
   ]
  },
  {
   "cell_type": "code",
   "execution_count": null,
   "metadata": {},
   "outputs": [],
   "source": []
  },
  {
   "cell_type": "markdown",
   "metadata": {},
   "source": [
    "### References\n",
    "[1] National Indigenous Australians Agency. (n.d.). Closing the Gap. Retrieved September 16, 2025, from https://www.niaa.gov.au/our-work/closing-gap"
   ]
  }
 ],
 "metadata": {
  "kernelspec": {
   "display_name": "Python 3",
   "language": "python",
   "name": "python3"
  },
  "language_info": {
   "codemirror_mode": {
    "name": "ipython",
    "version": 3
   },
   "file_extension": ".py",
   "mimetype": "text/x-python",
   "name": "python",
   "nbconvert_exporter": "python",
   "pygments_lexer": "ipython3",
   "version": "3.13.2"
  },
  "nbgrader": {
   "__altered": false,
   "_root": {
    "entries": [
     [
      "__altered",
      false
     ],
     [
      "__hash",
      -335098374
     ],
     [
      "_root",
      {
       "entries": [
        [
         "cocalc_minimal_stubs",
         false
        ]
       ],
       "ownerID": {}
      }
     ],
     [
      "cocalc_minimal_stubs",
      false
     ],
     [
      "size",
      1
     ]
    ],
    "ownerID": {}
   },
   "cocalc_minimal_stubs": false,
   "size": 5
  }
 },
 "nbformat": 4,
 "nbformat_minor": 4
}
